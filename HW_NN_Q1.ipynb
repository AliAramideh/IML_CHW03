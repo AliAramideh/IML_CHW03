{
  "cells": [
    {
      "cell_type": "markdown",
      "id": "1b46fe41",
      "metadata": {
        "id": "1b46fe41"
      },
      "source": [
        "<div align=center>\n",
        "\n",
        "<font size=5>\n",
        "    In the Name of God\n",
        "<font/>\n",
        "<br/>\n",
        "<br/>\n",
        "<font>\n",
        "    Sharif University of Technology - Departmenet of Electrical Engineering\n",
        "</font>\n",
        "<br/>\n",
        "<font>\n",
        "    Introducing with Machine Learing - Dr. S. Amini\n",
        "</font>\n",
        "<br/>\n",
        "<br/>\n",
        "Spring 2023\n",
        "\n",
        "</div>\n",
        "\n",
        "<hr/>\n",
        "<div align=center>\n",
        "<font size=6>\n",
        "    Neural Networks Practical Assignment\n",
        "    \n",
        "    Question 1\n",
        "</font>\n",
        "<br/>\n",
        "<font size=4>\n",
        "<br/>\n",
        "</div>"
      ]
    },
    {
      "cell_type": "markdown",
      "id": "24a0fc13",
      "metadata": {
        "id": "24a0fc13"
      },
      "source": [
        "# Personal Data"
      ]
    },
    {
      "cell_type": "code",
      "execution_count": 2,
      "id": "44babb65",
      "metadata": {
        "id": "44babb65"
      },
      "outputs": [],
      "source": [
        "# Set your student number\n",
        "student_number = 98101736\n",
        "Name = 'Ali'\n",
        "Last_Name = 'Aramideh'"
      ]
    },
    {
      "cell_type": "markdown",
      "id": "ca4a337a",
      "metadata": {
        "id": "ca4a337a"
      },
      "source": [
        "# Rules\n",
        "- You are not allowed to add or remove cells. You **must use the provided space to write your code**. If you don't follow this rule, **your Practical Assignment won't be graded**.  \n",
        "\n",
        "- Collaboration and using the internet is allowed, but your code **must be written by yourself**. **Copying code** from each other or from available resources will result in a **zero score for the assignment**.\n",
        "\n",
        "- You are not allowed to use `torch.nn`, `torch.optim` and any activation function and loss function implemented in torch."
      ]
    },
    {
      "cell_type": "code",
      "execution_count": null,
      "id": "12b76789",
      "metadata": {
        "id": "12b76789"
      },
      "outputs": [],
      "source": [
        "!pip install numpy\n",
        "!pip install matplotlib\n",
        "!pip install torchvision\n",
        "!pip install torch"
      ]
    },
    {
      "cell_type": "markdown",
      "id": "886188c7",
      "metadata": {
        "id": "886188c7"
      },
      "source": [
        "## Importing Libraries"
      ]
    },
    {
      "cell_type": "code",
      "execution_count": 3,
      "id": "55a0adcc",
      "metadata": {
        "id": "55a0adcc"
      },
      "outputs": [],
      "source": [
        "import torch\n",
        "from torchvision.datasets import FashionMNIST\n",
        "from torchvision import transforms\n",
        "from torch.utils.data import DataLoader\n",
        "\n",
        "import numpy as np\n",
        "from matplotlib import pyplot as plt\n",
        "from typing import Dict"
      ]
    },
    {
      "cell_type": "markdown",
      "id": "18510868",
      "metadata": {
        "id": "18510868"
      },
      "source": [
        "## Datasets and Dataloaders\n",
        "\n",
        "Here, we download and load the train and test `FashionMNIST` dataset with the desired transforms. Then, we define the dataloaders for `train` and `test`."
      ]
    },
    {
      "cell_type": "code",
      "execution_count": 4,
      "id": "dc8759e2",
      "metadata": {
        "colab": {
          "base_uri": "https://localhost:8080/"
        },
        "id": "dc8759e2",
        "outputId": "55fe3994-8d85-430b-9de1-8b20cba138b7"
      },
      "outputs": [
        {
          "output_type": "stream",
          "name": "stdout",
          "text": [
            "Downloading http://fashion-mnist.s3-website.eu-central-1.amazonaws.com/train-images-idx3-ubyte.gz\n",
            "Downloading http://fashion-mnist.s3-website.eu-central-1.amazonaws.com/train-images-idx3-ubyte.gz to ./FashionMNIST/raw/train-images-idx3-ubyte.gz\n"
          ]
        },
        {
          "output_type": "stream",
          "name": "stderr",
          "text": [
            "100%|██████████| 26421880/26421880 [00:01<00:00, 19456215.46it/s]\n"
          ]
        },
        {
          "output_type": "stream",
          "name": "stdout",
          "text": [
            "Extracting ./FashionMNIST/raw/train-images-idx3-ubyte.gz to ./FashionMNIST/raw\n",
            "\n",
            "Downloading http://fashion-mnist.s3-website.eu-central-1.amazonaws.com/train-labels-idx1-ubyte.gz\n",
            "Downloading http://fashion-mnist.s3-website.eu-central-1.amazonaws.com/train-labels-idx1-ubyte.gz to ./FashionMNIST/raw/train-labels-idx1-ubyte.gz\n"
          ]
        },
        {
          "output_type": "stream",
          "name": "stderr",
          "text": [
            "100%|██████████| 29515/29515 [00:00<00:00, 331328.37it/s]\n"
          ]
        },
        {
          "output_type": "stream",
          "name": "stdout",
          "text": [
            "Extracting ./FashionMNIST/raw/train-labels-idx1-ubyte.gz to ./FashionMNIST/raw\n",
            "\n",
            "Downloading http://fashion-mnist.s3-website.eu-central-1.amazonaws.com/t10k-images-idx3-ubyte.gz\n",
            "Downloading http://fashion-mnist.s3-website.eu-central-1.amazonaws.com/t10k-images-idx3-ubyte.gz to ./FashionMNIST/raw/t10k-images-idx3-ubyte.gz\n"
          ]
        },
        {
          "output_type": "stream",
          "name": "stderr",
          "text": [
            "100%|██████████| 4422102/4422102 [00:00<00:00, 6210581.27it/s]\n"
          ]
        },
        {
          "output_type": "stream",
          "name": "stdout",
          "text": [
            "Extracting ./FashionMNIST/raw/t10k-images-idx3-ubyte.gz to ./FashionMNIST/raw\n",
            "\n",
            "Downloading http://fashion-mnist.s3-website.eu-central-1.amazonaws.com/t10k-labels-idx1-ubyte.gz\n",
            "Downloading http://fashion-mnist.s3-website.eu-central-1.amazonaws.com/t10k-labels-idx1-ubyte.gz to ./FashionMNIST/raw/t10k-labels-idx1-ubyte.gz\n"
          ]
        },
        {
          "output_type": "stream",
          "name": "stderr",
          "text": [
            "100%|██████████| 5148/5148 [00:00<00:00, 20781787.29it/s]"
          ]
        },
        {
          "output_type": "stream",
          "name": "stdout",
          "text": [
            "Extracting ./FashionMNIST/raw/t10k-labels-idx1-ubyte.gz to ./FashionMNIST/raw\n",
            "\n"
          ]
        },
        {
          "output_type": "stream",
          "name": "stderr",
          "text": [
            "\n"
          ]
        }
      ],
      "source": [
        "train_set = FashionMNIST(root='.', train=True, download=True, transform=transforms.ToTensor())\n",
        "test_set = FashionMNIST(root='.', train=False, download=True, transform=transforms.ToTensor())"
      ]
    },
    {
      "cell_type": "code",
      "execution_count": 5,
      "id": "8f6763e6",
      "metadata": {
        "id": "8f6763e6"
      },
      "outputs": [],
      "source": [
        "image_shape = train_set[0][0].shape\n",
        "input_dim = np.prod(image_shape).item()\n",
        "num_classes = len(FashionMNIST.classes)"
      ]
    },
    {
      "cell_type": "code",
      "execution_count": 6,
      "id": "c695ff60",
      "metadata": {
        "id": "c695ff60"
      },
      "outputs": [],
      "source": [
        "train_loader = DataLoader(train_set, 64, shuffle=True)\n",
        "test_loader = DataLoader(test_set, 64, shuffle=True)"
      ]
    },
    {
      "cell_type": "markdown",
      "id": "f9dac6c2",
      "metadata": {
        "id": "f9dac6c2"
      },
      "source": [
        "## Visualization\n",
        "\n",
        "Visualize 1 random image from each class\n",
        "\n",
        "- **Hint**:  You can use `plt.subplots` for visualization"
      ]
    },
    {
      "cell_type": "code",
      "execution_count": 8,
      "id": "e3d6b0c1",
      "metadata": {
        "colab": {
          "base_uri": "https://localhost:8080/",
          "height": 346
        },
        "id": "e3d6b0c1",
        "outputId": "0a6196fb-0175-4eb0-fbd0-61e267f76b71"
      },
      "outputs": [
        {
          "output_type": "display_data",
          "data": {
            "text/plain": [
              "<Figure size 640x480 with 10 Axes>"
            ],
            "image/png": "[encoded data removed]"
          },
          "metadata": {}
        }
      ],
      "source": [
        "## FILL HERE\n",
        "trainBatch = iter(train_loader)\n",
        "trainIMG, label = trainBatch.__next__()\n",
        "allClasses = set(label.tolist())\n",
        "listedLabel = label.tolist()\n",
        "\n",
        "for i in range(num_classes):\n",
        "    plt.subplot(num_classes//5, num_classes//2, i+1)\n",
        "\n",
        "    indices = [j for j, val in enumerate(listedLabel) if val == i]\n",
        "    randomIndex = np.random.randint(len(indices))\n",
        "    plt.imshow(trainIMG[indices[randomIndex]][0], cmap ='gray')\n",
        "    plt.axis('off')\n",
        "    plt.title(i)"
      ]
    },
    {
      "cell_type": "markdown",
      "id": "a94c5aba",
      "metadata": {
        "id": "a94c5aba"
      },
      "source": [
        "## Initializing model's parameters\n",
        "\n",
        "In this part, we create the model and initialize its parameters and store the values of these parameters in the variable `parameters` which is a dictionary including the weigths and biases of each layer."
      ]
    },
    {
      "cell_type": "code",
      "execution_count": 9,
      "id": "e6d40952",
      "metadata": {
        "id": "e6d40952"
      },
      "outputs": [],
      "source": [
        "def add_linear_layer(parameters: dict, shape, device, i=None):\n",
        "    \"\"\"\n",
        "    This function adds parameters of a linear unit of shape `shape` to the `parameters` dictionary.\n",
        "    \"\"\"\n",
        "    n_in, n_out = shape\n",
        "    with torch.no_grad():\n",
        "        w = torch.zeros(*shape, device=device)\n",
        "        # kaiming initialization for ReLU activations:\n",
        "        bound = 1 / np.sqrt(n_in).item()\n",
        "        w.uniform_(-bound, bound)\n",
        "        b = torch.zeros(n_out, device=device)  # no need to (1, n_out). it will broadcast itself.\n",
        "    w.requires_grad = True\n",
        "    b.requires_grad = True\n",
        "    # `i` is used to give numbers to parameter names\n",
        "    parameters.update({f'w{i}': w, f'b{i}': b})"
      ]
    },
    {
      "cell_type": "markdown",
      "id": "ce914706",
      "metadata": {
        "id": "ce914706"
      },
      "source": [
        "Now we define our neural network with the given layers and add the weights and biases to the dictionary `parameters`. **You are allowed to modify the values of the layers**."
      ]
    },
    {
      "cell_type": "code",
      "execution_count": 10,
      "id": "8f3867d7",
      "metadata": {
        "colab": {
          "base_uri": "https://localhost:8080/"
        },
        "id": "8f3867d7",
        "outputId": "86a78656-b12f-4141-e571-6b485f19f3e5"
      },
      "outputs": [
        {
          "output_type": "execute_result",
          "data": {
            "text/plain": [
              "dict_keys(['w0', 'b0', 'w1', 'b1', 'w2', 'b2', 'w3', 'b3', 'w4', 'b4'])"
            ]
          },
          "metadata": {},
          "execution_count": 10
        }
      ],
      "source": [
        "layers = [\n",
        "    (input_dim, 512),\n",
        "    (512, 256),\n",
        "    (256, 128),\n",
        "    (128, 64),\n",
        "    (64, num_classes)\n",
        "]\n",
        "num_layers = len(layers)\n",
        "parameters = {}\n",
        "\n",
        "# setting the device\n",
        "device = torch.device(\"cuda\" if torch.cuda.is_available() else \"cpu\")\n",
        "\n",
        "# adding the parameters to the dictionary\n",
        "for i, shape in enumerate(layers):\n",
        "    add_linear_layer(parameters, shape, device, i)\n",
        "\n",
        "parameters.keys()"
      ]
    },
    {
      "cell_type": "markdown",
      "id": "8bfd2c8e",
      "metadata": {
        "id": "8bfd2c8e"
      },
      "source": [
        "## Defining the required functions\n",
        "\n",
        "In this section, we should define the required functions. For each of these functions, the inputs and the desired outputs are given and you should write all or part of the function. **You are not allowed to use the activation functions and the loss functions implemented in torch**."
      ]
    },
    {
      "cell_type": "markdown",
      "id": "f3b413d8",
      "metadata": {
        "id": "f3b413d8"
      },
      "source": [
        "Computing affine and relu outputs:"
      ]
    },
    {
      "cell_type": "code",
      "execution_count": 11,
      "id": "bebeeb0e",
      "metadata": {
        "id": "bebeeb0e"
      },
      "outputs": [],
      "source": [
        "def affine_forward(x, w, b):\n",
        "    ## FILL HERE\n",
        "    return torch.matmul(x.T, w) + b\n",
        "\n",
        "def relu(x):\n",
        "    ## FILL HERE\n",
        "    return torch.max(x, torch.tensor(0.0))"
      ]
    },
    {
      "cell_type": "markdown",
      "id": "5d9baa5e",
      "metadata": {
        "id": "5d9baa5e"
      },
      "source": [
        "Function `model` returns output of the whole model for the input `x` using the parameters:"
      ]
    },
    {
      "cell_type": "code",
      "execution_count": 12,
      "id": "d2562962",
      "metadata": {
        "id": "d2562962"
      },
      "outputs": [],
      "source": [
        "def model(x: torch.Tensor, parameters, num_layers=num_layers):\n",
        "    # number of batches\n",
        "    B = x.shape[0]\n",
        "    x = x.view(B, -1)\n",
        "\n",
        "    ## FILL HERE\n",
        "    output = torch.empty(0, num_classes)\n",
        "    for j in range(B):\n",
        "        o1 = affine_forward(x[j], parameters.get('w0'), parameters.get('b0'))\n",
        "        af1 = relu(o1)\n",
        "\n",
        "        o2 = affine_forward(af1, parameters.get('w1'), parameters.get('b1'))\n",
        "        af2 = relu(o2)\n",
        "\n",
        "        o3 = affine_forward(af2, parameters.get('w2'), parameters.get('b2'))\n",
        "        af3 = relu(o3)\n",
        "\n",
        "        o4 = affine_forward(af3, parameters.get('w3'), parameters.get('b3'))\n",
        "        af4 = relu(o4)\n",
        "\n",
        "        out = affine_forward(af4, parameters.get('w4'), parameters.get('b4'))\n",
        "        out = torch.unsqueeze(out, 0)\n",
        "        output = torch.cat((output, out), dim=0)\n",
        "    return output"
      ]
    },
    {
      "cell_type": "markdown",
      "id": "d17a9b4c",
      "metadata": {
        "id": "d17a9b4c"
      },
      "source": [
        "Implementing cross entropy loss:"
      ]
    },
    {
      "cell_type": "code",
      "execution_count": 14,
      "id": "6959621c",
      "metadata": {
        "id": "6959621c"
      },
      "outputs": [],
      "source": [
        "def cross_entropy_loss(scores, y):\n",
        "    n = len(y)\n",
        "    ## FILL HERE\n",
        "    scores = torch.softmax(scores, dim=1)\n",
        "    NLL = -y * torch.log(scores[range(n), y])\n",
        "    return torch.mean(NLL)"
      ]
    },
    {
      "cell_type": "markdown",
      "id": "15a589af",
      "metadata": {
        "id": "15a589af"
      },
      "source": [
        "Implementing a function for optimizing paramters and a function to zeroing out their gradients:"
      ]
    },
    {
      "cell_type": "code",
      "execution_count": 15,
      "id": "3121c147",
      "metadata": {
        "id": "3121c147"
      },
      "outputs": [],
      "source": [
        "def sgd_optimizer(parameters: Dict[str, torch.Tensor], learning_rate=0.001):\n",
        "    '''This function gets the parameters and a learning rate. Then updates the parameters using their\n",
        "    gradient (parameter.grad). Finally, you should zero the gradients of the parameters after updating\n",
        "    the parameter value.'''\n",
        "    ## FILL HERE\n",
        "    with torch.no_grad():\n",
        "        for name, parameter in parameters.items():\n",
        "            parameter -= learning_rate * parameter.grad\n",
        "            parameters[name] = parameter\n",
        "            parameter.grad.zero_()"
      ]
    },
    {
      "cell_type": "markdown",
      "id": "e17b4cf8",
      "metadata": {
        "id": "e17b4cf8"
      },
      "source": [
        "Training functions:"
      ]
    },
    {
      "cell_type": "code",
      "execution_count": 16,
      "id": "76c0f03b",
      "metadata": {
        "id": "76c0f03b"
      },
      "outputs": [],
      "source": [
        "def accuracy(y_pred: np.ndarray, y_true: np.ndarray):\n",
        "    ## FILL HERE\n",
        "    delta = y_pred - y_true\n",
        "    zeros = np.count_nonzero(delta == 0)\n",
        "    acc = zeros/y_pred.size\n",
        "\n",
        "\n",
        "    return acc\n",
        "\n",
        "def train(train_loader, learning_rate=0.001, epoch=None):\n",
        "    '''This function implements the training loop for a single epoch. For each batch you should do the following:\n",
        "        1- Calculate the output of the model to the given input batch\n",
        "        2- Calculate the loss based on the model output\n",
        "        3- Update the gradients using loss.backward() method\n",
        "        4- Optimize the model parameters using the sgd_optimizer function defined previously\n",
        "        5- Print the train loss (Show the epoch and batch as well)\n",
        "        '''\n",
        "    train_loss = 0\n",
        "    N_train = len(train_loader.dataset)\n",
        "\n",
        "    # Creating empty lists Y and Y_pred to store the labels and predictions of each batch\n",
        "    # for calculating the accuracy later\n",
        "    Y = []\n",
        "    Y_pred = []\n",
        "\n",
        "\n",
        "    for i, (x, y) in enumerate(train_loader):\n",
        "        x = x.to(device)\n",
        "        y = y.to(device)\n",
        "        p = model(x, parameters)\n",
        "\n",
        "        ## FILL HERE\n",
        "        loss = cross_entropy_loss(p, y)\n",
        "        loss.backward()\n",
        "\n",
        "        sgd_optimizer(parameters, learning_rate)\n",
        "\n",
        "        y_pred = p.argmax(dim=-1)\n",
        "        Y.append(y.cpu().numpy())\n",
        "        Y_pred.append(y_pred.cpu().numpy())\n",
        "\n",
        "        train_loss += loss.item()\n",
        "        if i % 100 == 0:\n",
        "            print(f'Epoch [{epoch+1}/{N_train}], Batch: {i+1}, Train Loss: {loss.item()}')\n",
        "\n",
        "    train_loss /= N_train\n",
        "    Y = np.concatenate(Y)\n",
        "    Y_pred = np.concatenate(Y_pred)\n",
        "    acc = accuracy(Y_pred, Y)\n",
        "    print(f'Accuracy of train set: {acc}')\n",
        "    return train_loss, acc\n",
        "\n",
        "\n",
        "def validate(loader, epoch=None, set_name=None):\n",
        "    '''This function validates the model on the test dataloader. The function goes through each batch and does\n",
        "    the following on each batch:\n",
        "        1- Calculate the model output\n",
        "        2- Calculate the loss using the model output\n",
        "        3- Print the loss for each batch and epoch\n",
        "\n",
        "    Finally the function calculates the model accuracy.'''\n",
        "    total_loss = 0\n",
        "    N = len(loader.dataset)\n",
        "\n",
        "    # Creating empty lists Y and Y_pred to store the labels and predictions of each batch\n",
        "    # for calculating the accuracy later\n",
        "    Y = []\n",
        "    Y_pred = []\n",
        "    for i, (x, y) in enumerate(train_loader):\n",
        "        x = x.to(device)\n",
        "        y = y.to(device)\n",
        "        p = model(x, parameters)\n",
        "\n",
        "        ## FILL HERE\n",
        "\n",
        "        loss = cross_entropy_loss(p, y)\n",
        "        total_loss += loss.item()\n",
        "\n",
        "        y_pred = p.argmax(dim=-1)\n",
        "        Y.append(y.cpu().numpy())\n",
        "        Y_pred.append(y_pred.cpu().numpy())\n",
        "\n",
        "        if i % 100 == 0:\n",
        "            print(f'{set_name} set: Epoch [{epoch+1}/{N}], Batch: {i+1}, Validation Loss: {loss.item()}%')\n",
        "    Y = np.concatenate(Y)\n",
        "    Y_pred = np.concatenate(Y_pred)\n",
        "    total_loss /= N\n",
        "    acc = accuracy(Y_pred, Y)\n",
        "    print(f'Accuracy of {set_name} set: {acc*100}%')\n",
        "\n",
        "    return total_loss, acc"
      ]
    },
    {
      "cell_type": "code",
      "execution_count": 17,
      "id": "87ebb4b6",
      "metadata": {
        "id": "87ebb4b6"
      },
      "outputs": [],
      "source": [
        "train_losses = []\n",
        "test_losses = []\n",
        "train_accuracies = []\n",
        "test_accuracies = []"
      ]
    },
    {
      "cell_type": "code",
      "execution_count": 19,
      "id": "28d4eb0b",
      "metadata": {
        "id": "28d4eb0b"
      },
      "outputs": [],
      "source": [
        "def train_model(dataloaders, num_epochs, learning_rate=0.001, model_name='pytorch_model'):\n",
        "    '''This function trains the model for the number of epochs given and stores, calculates and prints the train\n",
        "    and test losses and accuracies. Finally, it plots the accuracy and loss history for training and test sets'''\n",
        "    train_loader, test_loader = dataloaders\n",
        "\n",
        "    for epoch in range(num_epochs):\n",
        "        ## FILL HERE\n",
        "        ## You should calculate the train and test loss and accuracies for each epoch and add them to\n",
        "        ## the lists `train_losses`, `test_losses`, `train_accuracies` and `test_accuracies`\n",
        "        train_loss, accLoss =  train(train_loader, learning_rate, epoch=epoch)\n",
        "        test_loss, accTest = validate(test_loader, epoch=epoch, set_name=model_name)\n",
        "\n",
        "        train_losses.append(train_loss)\n",
        "        train_accuracies.append(accLoss)\n",
        "        test_losses.append(test_loss)\n",
        "        test_accuracies.append(accTest)\n",
        "\n",
        "    ## plot the loss history of training and test sets\n",
        "    ## FILL HERE\n",
        "    plt.plot(test_losses, label='test')\n",
        "    plt.plot(train_losses, label='train')\n",
        "    plt.title('Loss')\n",
        "    plt.ylabel('loss')\n",
        "    plt.xlabel('epoch')\n",
        "    plt.legend()\n",
        "    plt.show()\n",
        "\n",
        "\n",
        "    ## plot the accuracy history of training and test sets\n",
        "    ## FILL HERE\n",
        "    plt.plot(test_accuracies, label=\"test\")\n",
        "    plt.plot(train_accuracies, label=\"train\")\n",
        "    plt.title('Accuracy')\n",
        "    plt.ylabel('Accuracy')\n",
        "    plt.xlabel('epoch')\n",
        "    plt.legend()\n",
        "    plt.show()"
      ]
    },
    {
      "cell_type": "code",
      "execution_count": 20,
      "id": "2ec4bdd2",
      "metadata": {
        "colab": {
          "base_uri": "https://localhost:8080/",
          "height": 1000
        },
        "id": "2ec4bdd2",
        "outputId": "86fad1ff-de07-4c10-e34d-3b1e649ab6e0"
      },
      "outputs": [
        {
          "output_type": "stream",
          "name": "stderr",
          "text": [
            "<ipython-input-11-4732e9ccf6a4>:3: UserWarning: The use of `x.T` on tensors of dimension other than 2 to reverse their shape is deprecated and it will throw an error in a future release. Consider `x.mT` to transpose batches of matrices or `x.permute(*torch.arange(x.ndim - 1, -1, -1))` to reverse the dimensions of a tensor. (Triggered internally at ../aten/src/ATen/native/TensorShape.cpp:3571.)\n",
            "  return torch.matmul(x.T, w) + b\n"
          ]
        },
        {
          "output_type": "stream",
          "name": "stdout",
          "text": [
            "Epoch [1/60000], Batch: 1, Train Loss: 11.166596412658691\n",
            "Epoch [1/60000], Batch: 101, Train Loss: 10.453327178955078\n",
            "Epoch [1/60000], Batch: 201, Train Loss: 9.169403076171875\n",
            "Epoch [1/60000], Batch: 301, Train Loss: 7.8769683837890625\n",
            "Epoch [1/60000], Batch: 401, Train Loss: 5.281461238861084\n",
            "Epoch [1/60000], Batch: 501, Train Loss: 4.459860324859619\n",
            "Epoch [1/60000], Batch: 601, Train Loss: 3.2445218563079834\n",
            "Epoch [1/60000], Batch: 701, Train Loss: 3.289170026779175\n",
            "Epoch [1/60000], Batch: 801, Train Loss: 3.1092352867126465\n",
            "Epoch [1/60000], Batch: 901, Train Loss: 2.9378771781921387\n",
            "Accuracy of train set: 0.32216666666666666\n",
            "pytorch_model set: Epoch [1/10000], Batch: 1, Validation Loss: 2.5208935737609863%\n",
            "pytorch_model set: Epoch [1/10000], Batch: 101, Validation Loss: 4.227903366088867%\n",
            "pytorch_model set: Epoch [1/10000], Batch: 201, Validation Loss: 3.058988571166992%\n",
            "pytorch_model set: Epoch [1/10000], Batch: 301, Validation Loss: 3.5366976261138916%\n",
            "pytorch_model set: Epoch [1/10000], Batch: 401, Validation Loss: 3.1117916107177734%\n",
            "pytorch_model set: Epoch [1/10000], Batch: 501, Validation Loss: 2.5166778564453125%\n",
            "pytorch_model set: Epoch [1/10000], Batch: 601, Validation Loss: 2.8336853981018066%\n",
            "pytorch_model set: Epoch [1/10000], Batch: 701, Validation Loss: 2.9480087757110596%\n",
            "pytorch_model set: Epoch [1/10000], Batch: 801, Validation Loss: 3.403703451156616%\n",
            "pytorch_model set: Epoch [1/10000], Batch: 901, Validation Loss: 3.491880416870117%\n",
            "Accuracy of pytorch_model set: 52.035%\n",
            "Epoch [2/60000], Batch: 1, Train Loss: 3.6473045349121094\n",
            "Epoch [2/60000], Batch: 101, Train Loss: 3.4154086112976074\n",
            "Epoch [2/60000], Batch: 201, Train Loss: 2.8211934566497803\n",
            "Epoch [2/60000], Batch: 301, Train Loss: 2.674999713897705\n",
            "Epoch [2/60000], Batch: 401, Train Loss: 2.9353199005126953\n",
            "Epoch [2/60000], Batch: 501, Train Loss: 2.076435089111328\n",
            "Epoch [2/60000], Batch: 601, Train Loss: 2.6863436698913574\n",
            "Epoch [2/60000], Batch: 701, Train Loss: 3.3812577724456787\n",
            "Epoch [2/60000], Batch: 801, Train Loss: 1.711371898651123\n",
            "Epoch [2/60000], Batch: 901, Train Loss: 1.8123341798782349\n",
            "Accuracy of train set: 0.5816\n",
            "pytorch_model set: Epoch [2/10000], Batch: 1, Validation Loss: 2.2907702922821045%\n",
            "pytorch_model set: Epoch [2/10000], Batch: 101, Validation Loss: 1.8242446184158325%\n",
            "pytorch_model set: Epoch [2/10000], Batch: 201, Validation Loss: 2.960613250732422%\n",
            "pytorch_model set: Epoch [2/10000], Batch: 301, Validation Loss: 1.8292616605758667%\n",
            "pytorch_model set: Epoch [2/10000], Batch: 401, Validation Loss: 1.8510746955871582%\n",
            "pytorch_model set: Epoch [2/10000], Batch: 501, Validation Loss: 2.0029752254486084%\n",
            "pytorch_model set: Epoch [2/10000], Batch: 601, Validation Loss: 1.8381538391113281%\n",
            "pytorch_model set: Epoch [2/10000], Batch: 701, Validation Loss: 1.919219970703125%\n",
            "pytorch_model set: Epoch [2/10000], Batch: 801, Validation Loss: 1.5638134479522705%\n",
            "pytorch_model set: Epoch [2/10000], Batch: 901, Validation Loss: 2.106228828430176%\n",
            "Accuracy of pytorch_model set: 62.36166666666667%\n",
            "Epoch [3/60000], Batch: 1, Train Loss: 2.301858425140381\n",
            "Epoch [3/60000], Batch: 101, Train Loss: 1.3532671928405762\n",
            "Epoch [3/60000], Batch: 201, Train Loss: 1.1807465553283691\n",
            "Epoch [3/60000], Batch: 301, Train Loss: 1.5746864080429077\n",
            "Epoch [3/60000], Batch: 401, Train Loss: 1.5708458423614502\n",
            "Epoch [3/60000], Batch: 501, Train Loss: 1.6635271310806274\n",
            "Epoch [3/60000], Batch: 601, Train Loss: 1.4488333463668823\n",
            "Epoch [3/60000], Batch: 701, Train Loss: 0.983818769454956\n",
            "Epoch [3/60000], Batch: 801, Train Loss: 1.4866890907287598\n",
            "Epoch [3/60000], Batch: 901, Train Loss: 1.7609944343566895\n",
            "Accuracy of train set: 0.7078333333333333\n",
            "pytorch_model set: Epoch [3/10000], Batch: 1, Validation Loss: 2.1028683185577393%\n",
            "pytorch_model set: Epoch [3/10000], Batch: 101, Validation Loss: 2.4196274280548096%\n",
            "pytorch_model set: Epoch [3/10000], Batch: 201, Validation Loss: 2.0782408714294434%\n",
            "pytorch_model set: Epoch [3/10000], Batch: 301, Validation Loss: 1.7470099925994873%\n",
            "pytorch_model set: Epoch [3/10000], Batch: 401, Validation Loss: 2.321955442428589%\n",
            "pytorch_model set: Epoch [3/10000], Batch: 501, Validation Loss: 2.103001594543457%\n",
            "pytorch_model set: Epoch [3/10000], Batch: 601, Validation Loss: 3.1474056243896484%\n",
            "pytorch_model set: Epoch [3/10000], Batch: 701, Validation Loss: 2.3100838661193848%\n",
            "pytorch_model set: Epoch [3/10000], Batch: 801, Validation Loss: 2.6109166145324707%\n",
            "pytorch_model set: Epoch [3/10000], Batch: 901, Validation Loss: 3.4732391834259033%\n",
            "Accuracy of pytorch_model set: 65.93833333333333%\n",
            "Epoch [4/60000], Batch: 1, Train Loss: 2.352466106414795\n",
            "Epoch [4/60000], Batch: 101, Train Loss: 1.1160045862197876\n",
            "Epoch [4/60000], Batch: 201, Train Loss: 1.0472157001495361\n",
            "Epoch [4/60000], Batch: 301, Train Loss: 2.3730220794677734\n",
            "Epoch [4/60000], Batch: 401, Train Loss: 2.108081340789795\n",
            "Epoch [4/60000], Batch: 501, Train Loss: 1.8158562183380127\n",
            "Epoch [4/60000], Batch: 601, Train Loss: 1.0844604969024658\n",
            "Epoch [4/60000], Batch: 701, Train Loss: 2.654555082321167\n",
            "Epoch [4/60000], Batch: 801, Train Loss: 1.3556044101715088\n",
            "Epoch [4/60000], Batch: 901, Train Loss: 1.2975623607635498\n",
            "Accuracy of train set: 0.7418333333333333\n",
            "pytorch_model set: Epoch [4/10000], Batch: 1, Validation Loss: 2.2602453231811523%\n",
            "pytorch_model set: Epoch [4/10000], Batch: 101, Validation Loss: 1.0361164808273315%\n",
            "pytorch_model set: Epoch [4/10000], Batch: 201, Validation Loss: 1.4020216464996338%\n",
            "pytorch_model set: Epoch [4/10000], Batch: 301, Validation Loss: 1.0042957067489624%\n",
            "pytorch_model set: Epoch [4/10000], Batch: 401, Validation Loss: 1.8328871726989746%\n",
            "pytorch_model set: Epoch [4/10000], Batch: 501, Validation Loss: 1.7840431928634644%\n",
            "pytorch_model set: Epoch [4/10000], Batch: 601, Validation Loss: 1.0238584280014038%\n",
            "pytorch_model set: Epoch [4/10000], Batch: 701, Validation Loss: 2.020383358001709%\n",
            "pytorch_model set: Epoch [4/10000], Batch: 801, Validation Loss: 1.2619709968566895%\n",
            "pytorch_model set: Epoch [4/10000], Batch: 901, Validation Loss: 1.6095126867294312%\n",
            "Accuracy of pytorch_model set: 77.02666666666667%\n",
            "Epoch [5/60000], Batch: 1, Train Loss: 2.099693775177002\n",
            "Epoch [5/60000], Batch: 101, Train Loss: 1.229859471321106\n",
            "Epoch [5/60000], Batch: 201, Train Loss: 1.5895946025848389\n",
            "Epoch [5/60000], Batch: 301, Train Loss: 1.8157017230987549\n",
            "Epoch [5/60000], Batch: 401, Train Loss: 0.8742401599884033\n",
            "Epoch [5/60000], Batch: 501, Train Loss: 2.180025100708008\n",
            "Epoch [5/60000], Batch: 601, Train Loss: 1.1301612854003906\n",
            "Epoch [5/60000], Batch: 701, Train Loss: 1.149133324623108\n",
            "Epoch [5/60000], Batch: 801, Train Loss: 1.5592806339263916\n",
            "Epoch [5/60000], Batch: 901, Train Loss: 1.89360773563385\n",
            "Accuracy of train set: 0.7591333333333333\n",
            "pytorch_model set: Epoch [5/10000], Batch: 1, Validation Loss: 1.2196940183639526%\n",
            "pytorch_model set: Epoch [5/10000], Batch: 101, Validation Loss: 1.9414055347442627%\n",
            "pytorch_model set: Epoch [5/10000], Batch: 201, Validation Loss: 1.5387026071548462%\n",
            "pytorch_model set: Epoch [5/10000], Batch: 301, Validation Loss: 2.4297189712524414%\n",
            "pytorch_model set: Epoch [5/10000], Batch: 401, Validation Loss: 1.6829403638839722%\n",
            "pytorch_model set: Epoch [5/10000], Batch: 501, Validation Loss: 1.1715441942214966%\n",
            "pytorch_model set: Epoch [5/10000], Batch: 601, Validation Loss: 2.259889841079712%\n",
            "pytorch_model set: Epoch [5/10000], Batch: 701, Validation Loss: 2.308990955352783%\n",
            "pytorch_model set: Epoch [5/10000], Batch: 801, Validation Loss: 1.4578880071640015%\n",
            "pytorch_model set: Epoch [5/10000], Batch: 901, Validation Loss: 1.9514588117599487%\n",
            "Accuracy of pytorch_model set: 75.72666666666666%\n",
            "Epoch [6/60000], Batch: 1, Train Loss: 1.6803151369094849\n",
            "Epoch [6/60000], Batch: 101, Train Loss: 1.244266152381897\n",
            "Epoch [6/60000], Batch: 201, Train Loss: 1.995422124862671\n",
            "Epoch [6/60000], Batch: 301, Train Loss: 0.7323750257492065\n",
            "Epoch [6/60000], Batch: 401, Train Loss: 1.4123162031173706\n",
            "Epoch [6/60000], Batch: 501, Train Loss: 0.8835620284080505\n",
            "Epoch [6/60000], Batch: 601, Train Loss: 1.2443029880523682\n",
            "Epoch [6/60000], Batch: 701, Train Loss: 1.935135841369629\n",
            "Epoch [6/60000], Batch: 801, Train Loss: 1.4322079420089722\n",
            "Epoch [6/60000], Batch: 901, Train Loss: 1.4027012586593628\n",
            "Accuracy of train set: 0.7689333333333334\n",
            "pytorch_model set: Epoch [6/10000], Batch: 1, Validation Loss: 1.2442831993103027%\n",
            "pytorch_model set: Epoch [6/10000], Batch: 101, Validation Loss: 1.5231424570083618%\n",
            "pytorch_model set: Epoch [6/10000], Batch: 201, Validation Loss: 1.638197422027588%\n",
            "pytorch_model set: Epoch [6/10000], Batch: 301, Validation Loss: 1.3673951625823975%\n",
            "pytorch_model set: Epoch [6/10000], Batch: 401, Validation Loss: 1.1830856800079346%\n",
            "pytorch_model set: Epoch [6/10000], Batch: 501, Validation Loss: 2.2614657878875732%\n",
            "pytorch_model set: Epoch [6/10000], Batch: 601, Validation Loss: 1.089322805404663%\n",
            "pytorch_model set: Epoch [6/10000], Batch: 701, Validation Loss: 1.3005313873291016%\n",
            "pytorch_model set: Epoch [6/10000], Batch: 801, Validation Loss: 1.6232366561889648%\n",
            "pytorch_model set: Epoch [6/10000], Batch: 901, Validation Loss: 0.7713793516159058%\n",
            "Accuracy of pytorch_model set: 77.17%\n",
            "Epoch [7/60000], Batch: 1, Train Loss: 1.3409991264343262\n",
            "Epoch [7/60000], Batch: 101, Train Loss: 1.260819673538208\n",
            "Epoch [7/60000], Batch: 201, Train Loss: 0.7300524711608887\n",
            "Epoch [7/60000], Batch: 301, Train Loss: 1.6803115606307983\n",
            "Epoch [7/60000], Batch: 401, Train Loss: 1.186292290687561\n",
            "Epoch [7/60000], Batch: 501, Train Loss: 1.0103789567947388\n",
            "Epoch [7/60000], Batch: 601, Train Loss: 0.9216817617416382\n",
            "Epoch [7/60000], Batch: 701, Train Loss: 2.012606620788574\n",
            "Epoch [7/60000], Batch: 801, Train Loss: 1.0957608222961426\n",
            "Epoch [7/60000], Batch: 901, Train Loss: 1.9522521495819092\n",
            "Accuracy of train set: 0.7765666666666666\n",
            "pytorch_model set: Epoch [7/10000], Batch: 1, Validation Loss: 0.8813410997390747%\n",
            "pytorch_model set: Epoch [7/10000], Batch: 101, Validation Loss: 0.9944470524787903%\n",
            "pytorch_model set: Epoch [7/10000], Batch: 201, Validation Loss: 1.7205700874328613%\n",
            "pytorch_model set: Epoch [7/10000], Batch: 301, Validation Loss: 2.3790645599365234%\n",
            "pytorch_model set: Epoch [7/10000], Batch: 401, Validation Loss: 0.7299515008926392%\n",
            "pytorch_model set: Epoch [7/10000], Batch: 501, Validation Loss: 0.9786505699157715%\n",
            "pytorch_model set: Epoch [7/10000], Batch: 601, Validation Loss: 1.9657920598983765%\n",
            "pytorch_model set: Epoch [7/10000], Batch: 701, Validation Loss: 2.227146625518799%\n",
            "pytorch_model set: Epoch [7/10000], Batch: 801, Validation Loss: 1.408584475517273%\n",
            "pytorch_model set: Epoch [7/10000], Batch: 901, Validation Loss: 2.1309266090393066%\n",
            "Accuracy of pytorch_model set: 78.80166666666668%\n",
            "Epoch [8/60000], Batch: 1, Train Loss: 1.3667854070663452\n",
            "Epoch [8/60000], Batch: 101, Train Loss: 1.2121810913085938\n",
            "Epoch [8/60000], Batch: 201, Train Loss: 1.8190317153930664\n",
            "Epoch [8/60000], Batch: 301, Train Loss: 0.5879133939743042\n",
            "Epoch [8/60000], Batch: 401, Train Loss: 0.9436910152435303\n",
            "Epoch [8/60000], Batch: 501, Train Loss: 1.0961852073669434\n",
            "Epoch [8/60000], Batch: 601, Train Loss: 1.4627443552017212\n",
            "Epoch [8/60000], Batch: 701, Train Loss: 1.2419137954711914\n",
            "Epoch [8/60000], Batch: 801, Train Loss: 0.7672988772392273\n",
            "Epoch [8/60000], Batch: 901, Train Loss: 1.0825574398040771\n",
            "Accuracy of train set: 0.7839833333333334\n",
            "pytorch_model set: Epoch [8/10000], Batch: 1, Validation Loss: 0.9558680057525635%\n",
            "pytorch_model set: Epoch [8/10000], Batch: 101, Validation Loss: 1.8810644149780273%\n",
            "pytorch_model set: Epoch [8/10000], Batch: 201, Validation Loss: 1.4987008571624756%\n",
            "pytorch_model set: Epoch [8/10000], Batch: 301, Validation Loss: 1.3207556009292603%\n",
            "pytorch_model set: Epoch [8/10000], Batch: 401, Validation Loss: 1.068864345550537%\n",
            "pytorch_model set: Epoch [8/10000], Batch: 501, Validation Loss: 1.2105904817581177%\n",
            "pytorch_model set: Epoch [8/10000], Batch: 601, Validation Loss: 1.4235862493515015%\n",
            "pytorch_model set: Epoch [8/10000], Batch: 701, Validation Loss: 1.4925287961959839%\n",
            "pytorch_model set: Epoch [8/10000], Batch: 801, Validation Loss: 0.8833839297294617%\n",
            "pytorch_model set: Epoch [8/10000], Batch: 901, Validation Loss: 1.1394529342651367%\n",
            "Accuracy of pytorch_model set: 79.235%\n",
            "Epoch [9/60000], Batch: 1, Train Loss: 0.9338671565055847\n",
            "Epoch [9/60000], Batch: 101, Train Loss: 1.6531808376312256\n",
            "Epoch [9/60000], Batch: 201, Train Loss: 1.4101173877716064\n",
            "Epoch [9/60000], Batch: 301, Train Loss: 0.5928528308868408\n",
            "Epoch [9/60000], Batch: 401, Train Loss: 1.369978427886963\n",
            "Epoch [9/60000], Batch: 501, Train Loss: 0.9577693939208984\n",
            "Epoch [9/60000], Batch: 601, Train Loss: 0.7282955050468445\n",
            "Epoch [9/60000], Batch: 701, Train Loss: 0.6804566383361816\n",
            "Epoch [9/60000], Batch: 801, Train Loss: 1.4978752136230469\n",
            "Epoch [9/60000], Batch: 901, Train Loss: 1.036265254020691\n",
            "Accuracy of train set: 0.7913166666666667\n",
            "pytorch_model set: Epoch [9/10000], Batch: 1, Validation Loss: 1.4582011699676514%\n",
            "pytorch_model set: Epoch [9/10000], Batch: 101, Validation Loss: 0.3388541638851166%\n",
            "pytorch_model set: Epoch [9/10000], Batch: 201, Validation Loss: 1.3557853698730469%\n",
            "pytorch_model set: Epoch [9/10000], Batch: 301, Validation Loss: 0.9741597175598145%\n",
            "pytorch_model set: Epoch [9/10000], Batch: 401, Validation Loss: 1.0913174152374268%\n",
            "pytorch_model set: Epoch [9/10000], Batch: 501, Validation Loss: 0.7764468789100647%\n",
            "pytorch_model set: Epoch [9/10000], Batch: 601, Validation Loss: 1.3241616487503052%\n",
            "pytorch_model set: Epoch [9/10000], Batch: 701, Validation Loss: 0.6952389478683472%\n",
            "pytorch_model set: Epoch [9/10000], Batch: 801, Validation Loss: 1.683363437652588%\n",
            "pytorch_model set: Epoch [9/10000], Batch: 901, Validation Loss: 1.548413872718811%\n",
            "Accuracy of pytorch_model set: 80.23%\n",
            "Epoch [10/60000], Batch: 1, Train Loss: 1.6978604793548584\n",
            "Epoch [10/60000], Batch: 101, Train Loss: 1.2630398273468018\n",
            "Epoch [10/60000], Batch: 201, Train Loss: 0.9087745547294617\n",
            "Epoch [10/60000], Batch: 301, Train Loss: 1.10463547706604\n",
            "Epoch [10/60000], Batch: 401, Train Loss: 0.95732581615448\n",
            "Epoch [10/60000], Batch: 501, Train Loss: 1.034779667854309\n",
            "Epoch [10/60000], Batch: 601, Train Loss: 1.2427089214324951\n",
            "Epoch [10/60000], Batch: 701, Train Loss: 0.8420031070709229\n",
            "Epoch [10/60000], Batch: 801, Train Loss: 1.2455461025238037\n",
            "Epoch [10/60000], Batch: 901, Train Loss: 0.9578423500061035\n",
            "Accuracy of train set: 0.7962166666666667\n",
            "pytorch_model set: Epoch [10/10000], Batch: 1, Validation Loss: 1.4859089851379395%\n",
            "pytorch_model set: Epoch [10/10000], Batch: 101, Validation Loss: 1.0751826763153076%\n",
            "pytorch_model set: Epoch [10/10000], Batch: 201, Validation Loss: 1.5770447254180908%\n",
            "pytorch_model set: Epoch [10/10000], Batch: 301, Validation Loss: 0.8991718292236328%\n",
            "pytorch_model set: Epoch [10/10000], Batch: 401, Validation Loss: 2.101410388946533%\n",
            "pytorch_model set: Epoch [10/10000], Batch: 501, Validation Loss: 1.331355333328247%\n",
            "pytorch_model set: Epoch [10/10000], Batch: 601, Validation Loss: 1.1784567832946777%\n",
            "pytorch_model set: Epoch [10/10000], Batch: 701, Validation Loss: 1.3250958919525146%\n",
            "pytorch_model set: Epoch [10/10000], Batch: 801, Validation Loss: 1.7919623851776123%\n",
            "pytorch_model set: Epoch [10/10000], Batch: 901, Validation Loss: 2.430720567703247%\n",
            "Accuracy of pytorch_model set: 77.58166666666668%\n",
            "Epoch [11/60000], Batch: 1, Train Loss: 1.3504935503005981\n",
            "Epoch [11/60000], Batch: 101, Train Loss: 0.5241400599479675\n",
            "Epoch [11/60000], Batch: 201, Train Loss: 1.337222695350647\n",
            "Epoch [11/60000], Batch: 301, Train Loss: 0.8268559575080872\n",
            "Epoch [11/60000], Batch: 401, Train Loss: 1.2877771854400635\n",
            "Epoch [11/60000], Batch: 501, Train Loss: 1.3296303749084473\n",
            "Epoch [11/60000], Batch: 601, Train Loss: 1.0096033811569214\n",
            "Epoch [11/60000], Batch: 701, Train Loss: 0.6085578799247742\n",
            "Epoch [11/60000], Batch: 801, Train Loss: 1.3375041484832764\n",
            "Epoch [11/60000], Batch: 901, Train Loss: 0.7828474044799805\n",
            "Accuracy of train set: 0.8006833333333333\n",
            "pytorch_model set: Epoch [11/10000], Batch: 1, Validation Loss: 1.064691424369812%\n",
            "pytorch_model set: Epoch [11/10000], Batch: 101, Validation Loss: 1.026829481124878%\n",
            "pytorch_model set: Epoch [11/10000], Batch: 201, Validation Loss: 0.5722149610519409%\n",
            "pytorch_model set: Epoch [11/10000], Batch: 301, Validation Loss: 1.1727550029754639%\n",
            "pytorch_model set: Epoch [11/10000], Batch: 401, Validation Loss: 0.8057392835617065%\n",
            "pytorch_model set: Epoch [11/10000], Batch: 501, Validation Loss: 1.9084203243255615%\n",
            "pytorch_model set: Epoch [11/10000], Batch: 601, Validation Loss: 0.8785052299499512%\n",
            "pytorch_model set: Epoch [11/10000], Batch: 701, Validation Loss: 1.2461234331130981%\n",
            "pytorch_model set: Epoch [11/10000], Batch: 801, Validation Loss: 0.5244122743606567%\n",
            "pytorch_model set: Epoch [11/10000], Batch: 901, Validation Loss: 0.8342416882514954%\n",
            "Accuracy of pytorch_model set: 81.15333333333334%\n",
            "Epoch [12/60000], Batch: 1, Train Loss: 1.123504638671875\n",
            "Epoch [12/60000], Batch: 101, Train Loss: 0.9252035617828369\n",
            "Epoch [12/60000], Batch: 201, Train Loss: 1.1828563213348389\n",
            "Epoch [12/60000], Batch: 301, Train Loss: 1.3910664319992065\n",
            "Epoch [12/60000], Batch: 401, Train Loss: 0.9920952916145325\n",
            "Epoch [12/60000], Batch: 501, Train Loss: 0.41150954365730286\n",
            "Epoch [12/60000], Batch: 601, Train Loss: 1.1686080694198608\n",
            "Epoch [12/60000], Batch: 701, Train Loss: 1.4839636087417603\n",
            "Epoch [12/60000], Batch: 801, Train Loss: 0.8655186891555786\n",
            "Epoch [12/60000], Batch: 901, Train Loss: 1.663954496383667\n",
            "Accuracy of train set: 0.8039666666666667\n",
            "pytorch_model set: Epoch [12/10000], Batch: 1, Validation Loss: 1.0870426893234253%\n",
            "pytorch_model set: Epoch [12/10000], Batch: 101, Validation Loss: 0.6398240923881531%\n",
            "pytorch_model set: Epoch [12/10000], Batch: 201, Validation Loss: 1.1538077592849731%\n",
            "pytorch_model set: Epoch [12/10000], Batch: 301, Validation Loss: 0.6894471049308777%\n",
            "pytorch_model set: Epoch [12/10000], Batch: 401, Validation Loss: 1.4013429880142212%\n",
            "pytorch_model set: Epoch [12/10000], Batch: 501, Validation Loss: 0.7034850120544434%\n",
            "pytorch_model set: Epoch [12/10000], Batch: 601, Validation Loss: 1.7225580215454102%\n",
            "pytorch_model set: Epoch [12/10000], Batch: 701, Validation Loss: 1.0251522064208984%\n",
            "pytorch_model set: Epoch [12/10000], Batch: 801, Validation Loss: 1.5613141059875488%\n",
            "pytorch_model set: Epoch [12/10000], Batch: 901, Validation Loss: 0.5509082078933716%\n",
            "Accuracy of pytorch_model set: 81.07166666666666%\n",
            "Epoch [13/60000], Batch: 1, Train Loss: 0.8946887254714966\n",
            "Epoch [13/60000], Batch: 101, Train Loss: 0.30564820766448975\n",
            "Epoch [13/60000], Batch: 201, Train Loss: 0.4876156747341156\n",
            "Epoch [13/60000], Batch: 301, Train Loss: 1.1525923013687134\n",
            "Epoch [13/60000], Batch: 401, Train Loss: 0.8429291248321533\n",
            "Epoch [13/60000], Batch: 501, Train Loss: 0.9259501099586487\n",
            "Epoch [13/60000], Batch: 601, Train Loss: 0.7278650999069214\n",
            "Epoch [13/60000], Batch: 701, Train Loss: 0.9164013862609863\n",
            "Epoch [13/60000], Batch: 801, Train Loss: 0.8553874492645264\n",
            "Epoch [13/60000], Batch: 901, Train Loss: 0.44738295674324036\n",
            "Accuracy of train set: 0.8093666666666667\n",
            "pytorch_model set: Epoch [13/10000], Batch: 1, Validation Loss: 0.929104208946228%\n",
            "pytorch_model set: Epoch [13/10000], Batch: 101, Validation Loss: 1.4451545476913452%\n",
            "pytorch_model set: Epoch [13/10000], Batch: 201, Validation Loss: 0.7969341278076172%\n",
            "pytorch_model set: Epoch [13/10000], Batch: 301, Validation Loss: 0.6050070524215698%\n",
            "pytorch_model set: Epoch [13/10000], Batch: 401, Validation Loss: 0.835755467414856%\n",
            "pytorch_model set: Epoch [13/10000], Batch: 501, Validation Loss: 1.1159077882766724%\n",
            "pytorch_model set: Epoch [13/10000], Batch: 601, Validation Loss: 1.636883020401001%\n",
            "pytorch_model set: Epoch [13/10000], Batch: 701, Validation Loss: 0.7389806509017944%\n",
            "pytorch_model set: Epoch [13/10000], Batch: 801, Validation Loss: 0.6420841813087463%\n",
            "pytorch_model set: Epoch [13/10000], Batch: 901, Validation Loss: 0.896417498588562%\n",
            "Accuracy of pytorch_model set: 81.45333333333333%\n",
            "Epoch [14/60000], Batch: 1, Train Loss: 1.413297176361084\n",
            "Epoch [14/60000], Batch: 101, Train Loss: 0.7277771830558777\n",
            "Epoch [14/60000], Batch: 201, Train Loss: 1.064170241355896\n",
            "Epoch [14/60000], Batch: 301, Train Loss: 0.6914363503456116\n",
            "Epoch [14/60000], Batch: 401, Train Loss: 0.6273475885391235\n",
            "Epoch [14/60000], Batch: 501, Train Loss: 1.4010807275772095\n",
            "Epoch [14/60000], Batch: 601, Train Loss: 1.4731930494308472\n",
            "Epoch [14/60000], Batch: 701, Train Loss: 1.0948090553283691\n",
            "Epoch [14/60000], Batch: 801, Train Loss: 0.716201663017273\n",
            "Epoch [14/60000], Batch: 901, Train Loss: 0.5804862976074219\n",
            "Accuracy of train set: 0.8113833333333333\n",
            "pytorch_model set: Epoch [14/10000], Batch: 1, Validation Loss: 1.138828158378601%\n",
            "pytorch_model set: Epoch [14/10000], Batch: 101, Validation Loss: 1.1249690055847168%\n",
            "pytorch_model set: Epoch [14/10000], Batch: 201, Validation Loss: 0.8018456101417542%\n",
            "pytorch_model set: Epoch [14/10000], Batch: 301, Validation Loss: 0.36154329776763916%\n",
            "pytorch_model set: Epoch [14/10000], Batch: 401, Validation Loss: 0.8229678869247437%\n",
            "pytorch_model set: Epoch [14/10000], Batch: 501, Validation Loss: 0.4684860408306122%\n",
            "pytorch_model set: Epoch [14/10000], Batch: 601, Validation Loss: 0.7692551612854004%\n",
            "pytorch_model set: Epoch [14/10000], Batch: 701, Validation Loss: 0.8032618761062622%\n",
            "pytorch_model set: Epoch [14/10000], Batch: 801, Validation Loss: 0.870395302772522%\n",
            "pytorch_model set: Epoch [14/10000], Batch: 901, Validation Loss: 0.5207837820053101%\n",
            "Accuracy of pytorch_model set: 82.24333333333334%\n",
            "Epoch [15/60000], Batch: 1, Train Loss: 0.4263259768486023\n",
            "Epoch [15/60000], Batch: 101, Train Loss: 0.49636945128440857\n",
            "Epoch [15/60000], Batch: 201, Train Loss: 1.0415174961090088\n",
            "Epoch [15/60000], Batch: 301, Train Loss: 0.8147919774055481\n",
            "Epoch [15/60000], Batch: 401, Train Loss: 0.41721633076667786\n",
            "Epoch [15/60000], Batch: 501, Train Loss: 1.228447675704956\n",
            "Epoch [15/60000], Batch: 601, Train Loss: 0.926592230796814\n",
            "Epoch [15/60000], Batch: 701, Train Loss: 0.9974409341812134\n",
            "Epoch [15/60000], Batch: 801, Train Loss: 0.7988453507423401\n",
            "Epoch [15/60000], Batch: 901, Train Loss: 0.9379526972770691\n",
            "Accuracy of train set: 0.8159333333333333\n",
            "pytorch_model set: Epoch [15/10000], Batch: 1, Validation Loss: 0.7958592772483826%\n",
            "pytorch_model set: Epoch [15/10000], Batch: 101, Validation Loss: 0.7820391058921814%\n",
            "pytorch_model set: Epoch [15/10000], Batch: 201, Validation Loss: 0.4495832324028015%\n",
            "pytorch_model set: Epoch [15/10000], Batch: 301, Validation Loss: 0.6138957738876343%\n",
            "pytorch_model set: Epoch [15/10000], Batch: 401, Validation Loss: 0.6994811296463013%\n",
            "pytorch_model set: Epoch [15/10000], Batch: 501, Validation Loss: 0.6635974049568176%\n",
            "pytorch_model set: Epoch [15/10000], Batch: 601, Validation Loss: 0.6774101257324219%\n",
            "pytorch_model set: Epoch [15/10000], Batch: 701, Validation Loss: 0.4835074841976166%\n",
            "pytorch_model set: Epoch [15/10000], Batch: 801, Validation Loss: 0.6934682726860046%\n",
            "pytorch_model set: Epoch [15/10000], Batch: 901, Validation Loss: 0.7762962579727173%\n",
            "Accuracy of pytorch_model set: 82.06166666666667%\n",
            "Epoch [16/60000], Batch: 1, Train Loss: 0.9366739392280579\n",
            "Epoch [16/60000], Batch: 101, Train Loss: 0.7208559513092041\n",
            "Epoch [16/60000], Batch: 201, Train Loss: 0.40843626856803894\n",
            "Epoch [16/60000], Batch: 301, Train Loss: 0.5808308720588684\n",
            "Epoch [16/60000], Batch: 401, Train Loss: 0.42038121819496155\n",
            "Epoch [16/60000], Batch: 501, Train Loss: 0.5658990740776062\n",
            "Epoch [16/60000], Batch: 601, Train Loss: 1.009501338005066\n",
            "Epoch [16/60000], Batch: 701, Train Loss: 0.9700354337692261\n",
            "Epoch [16/60000], Batch: 801, Train Loss: 0.7015732526779175\n",
            "Epoch [16/60000], Batch: 901, Train Loss: 1.0528525114059448\n",
            "Accuracy of train set: 0.8176833333333333\n",
            "pytorch_model set: Epoch [16/10000], Batch: 1, Validation Loss: 0.40936943888664246%\n",
            "pytorch_model set: Epoch [16/10000], Batch: 101, Validation Loss: 1.6441106796264648%\n",
            "pytorch_model set: Epoch [16/10000], Batch: 201, Validation Loss: 1.320220947265625%\n",
            "pytorch_model set: Epoch [16/10000], Batch: 301, Validation Loss: 0.7416572570800781%\n",
            "pytorch_model set: Epoch [16/10000], Batch: 401, Validation Loss: 1.7368371486663818%\n",
            "pytorch_model set: Epoch [16/10000], Batch: 501, Validation Loss: 0.7257522344589233%\n",
            "pytorch_model set: Epoch [16/10000], Batch: 601, Validation Loss: 0.5777192115783691%\n",
            "pytorch_model set: Epoch [16/10000], Batch: 701, Validation Loss: 0.7286491990089417%\n",
            "pytorch_model set: Epoch [16/10000], Batch: 801, Validation Loss: 0.4881739318370819%\n",
            "pytorch_model set: Epoch [16/10000], Batch: 901, Validation Loss: 0.780087947845459%\n",
            "Accuracy of pytorch_model set: 81.00333333333334%\n",
            "Epoch [17/60000], Batch: 1, Train Loss: 1.1509114503860474\n",
            "Epoch [17/60000], Batch: 101, Train Loss: 0.6257309913635254\n",
            "Epoch [17/60000], Batch: 201, Train Loss: 0.8633242249488831\n",
            "Epoch [17/60000], Batch: 301, Train Loss: 0.8617211580276489\n",
            "Epoch [17/60000], Batch: 401, Train Loss: 0.4940994381904602\n",
            "Epoch [17/60000], Batch: 501, Train Loss: 1.060980200767517\n",
            "Epoch [17/60000], Batch: 601, Train Loss: 0.8508147597312927\n",
            "Epoch [17/60000], Batch: 701, Train Loss: 0.8350514769554138\n",
            "Epoch [17/60000], Batch: 801, Train Loss: 1.044933795928955\n",
            "Epoch [17/60000], Batch: 901, Train Loss: 0.8195353746414185\n",
            "Accuracy of train set: 0.8193666666666667\n",
            "pytorch_model set: Epoch [17/10000], Batch: 1, Validation Loss: 0.8892654776573181%\n",
            "pytorch_model set: Epoch [17/10000], Batch: 101, Validation Loss: 0.6258366703987122%\n",
            "pytorch_model set: Epoch [17/10000], Batch: 201, Validation Loss: 0.9387249946594238%\n",
            "pytorch_model set: Epoch [17/10000], Batch: 301, Validation Loss: 0.7156611084938049%\n",
            "pytorch_model set: Epoch [17/10000], Batch: 401, Validation Loss: 1.0023272037506104%\n",
            "pytorch_model set: Epoch [17/10000], Batch: 501, Validation Loss: 0.27189505100250244%\n",
            "pytorch_model set: Epoch [17/10000], Batch: 601, Validation Loss: 0.7359899878501892%\n",
            "pytorch_model set: Epoch [17/10000], Batch: 701, Validation Loss: 0.4444597065448761%\n",
            "pytorch_model set: Epoch [17/10000], Batch: 801, Validation Loss: 0.7068141102790833%\n",
            "pytorch_model set: Epoch [17/10000], Batch: 901, Validation Loss: 0.835911214351654%\n",
            "Accuracy of pytorch_model set: 81.89999999999999%\n",
            "Epoch [18/60000], Batch: 1, Train Loss: 1.0138553380966187\n",
            "Epoch [18/60000], Batch: 101, Train Loss: 0.5654619932174683\n",
            "Epoch [18/60000], Batch: 201, Train Loss: 0.9766084551811218\n",
            "Epoch [18/60000], Batch: 301, Train Loss: 0.6044719815254211\n",
            "Epoch [18/60000], Batch: 401, Train Loss: 0.9925311207771301\n",
            "Epoch [18/60000], Batch: 501, Train Loss: 0.8061068058013916\n",
            "Epoch [18/60000], Batch: 601, Train Loss: 1.1758238077163696\n",
            "Epoch [18/60000], Batch: 701, Train Loss: 0.4575324058532715\n",
            "Epoch [18/60000], Batch: 801, Train Loss: 0.6717666983604431\n",
            "Epoch [18/60000], Batch: 901, Train Loss: 0.6611936688423157\n",
            "Accuracy of train set: 0.8217666666666666\n",
            "pytorch_model set: Epoch [18/10000], Batch: 1, Validation Loss: 0.5593386292457581%\n",
            "pytorch_model set: Epoch [18/10000], Batch: 101, Validation Loss: 0.6500853300094604%\n",
            "pytorch_model set: Epoch [18/10000], Batch: 201, Validation Loss: 0.8009241223335266%\n",
            "pytorch_model set: Epoch [18/10000], Batch: 301, Validation Loss: 0.34317776560783386%\n",
            "pytorch_model set: Epoch [18/10000], Batch: 401, Validation Loss: 0.7311707139015198%\n",
            "pytorch_model set: Epoch [18/10000], Batch: 501, Validation Loss: 0.7086072564125061%\n",
            "pytorch_model set: Epoch [18/10000], Batch: 601, Validation Loss: 0.7134627103805542%\n",
            "pytorch_model set: Epoch [18/10000], Batch: 701, Validation Loss: 0.8350130319595337%\n",
            "pytorch_model set: Epoch [18/10000], Batch: 801, Validation Loss: 1.0137830972671509%\n",
            "pytorch_model set: Epoch [18/10000], Batch: 901, Validation Loss: 0.9630832672119141%\n",
            "Accuracy of pytorch_model set: 82.76%\n",
            "Epoch [19/60000], Batch: 1, Train Loss: 0.29864367842674255\n",
            "Epoch [19/60000], Batch: 101, Train Loss: 0.441013902425766\n",
            "Epoch [19/60000], Batch: 201, Train Loss: 0.644860029220581\n",
            "Epoch [19/60000], Batch: 301, Train Loss: 0.6406627893447876\n",
            "Epoch [19/60000], Batch: 401, Train Loss: 0.8686373829841614\n",
            "Epoch [19/60000], Batch: 501, Train Loss: 1.1466658115386963\n",
            "Epoch [19/60000], Batch: 601, Train Loss: 0.4518049359321594\n",
            "Epoch [19/60000], Batch: 701, Train Loss: 0.6566359400749207\n",
            "Epoch [19/60000], Batch: 801, Train Loss: 0.5256118774414062\n",
            "Epoch [19/60000], Batch: 901, Train Loss: 0.8407071828842163\n",
            "Accuracy of train set: 0.82525\n",
            "pytorch_model set: Epoch [19/10000], Batch: 1, Validation Loss: 1.0250651836395264%\n",
            "pytorch_model set: Epoch [19/10000], Batch: 101, Validation Loss: 0.9928073883056641%\n",
            "pytorch_model set: Epoch [19/10000], Batch: 201, Validation Loss: 1.064828872680664%\n",
            "pytorch_model set: Epoch [19/10000], Batch: 301, Validation Loss: 0.6769593358039856%\n",
            "pytorch_model set: Epoch [19/10000], Batch: 401, Validation Loss: 0.9697959423065186%\n",
            "pytorch_model set: Epoch [19/10000], Batch: 501, Validation Loss: 1.2279599905014038%\n",
            "pytorch_model set: Epoch [19/10000], Batch: 601, Validation Loss: 0.9639831781387329%\n",
            "pytorch_model set: Epoch [19/10000], Batch: 701, Validation Loss: 0.7860386371612549%\n",
            "pytorch_model set: Epoch [19/10000], Batch: 801, Validation Loss: 1.114986777305603%\n",
            "pytorch_model set: Epoch [19/10000], Batch: 901, Validation Loss: 0.8316798210144043%\n",
            "Accuracy of pytorch_model set: 81.90166666666666%\n",
            "Epoch [20/60000], Batch: 1, Train Loss: 0.7515184879302979\n",
            "Epoch [20/60000], Batch: 101, Train Loss: 0.7284293174743652\n",
            "Epoch [20/60000], Batch: 201, Train Loss: 0.6196357011795044\n",
            "Epoch [20/60000], Batch: 301, Train Loss: 1.1577056646347046\n",
            "Epoch [20/60000], Batch: 401, Train Loss: 0.552238404750824\n",
            "Epoch [20/60000], Batch: 501, Train Loss: 0.6359956860542297\n",
            "Epoch [20/60000], Batch: 601, Train Loss: 0.681822657585144\n",
            "Epoch [20/60000], Batch: 701, Train Loss: 0.8997325301170349\n",
            "Epoch [20/60000], Batch: 801, Train Loss: 0.8880594968795776\n",
            "Epoch [20/60000], Batch: 901, Train Loss: 0.4412444233894348\n",
            "Accuracy of train set: 0.8249833333333333\n",
            "pytorch_model set: Epoch [20/10000], Batch: 1, Validation Loss: 0.7241846323013306%\n",
            "pytorch_model set: Epoch [20/10000], Batch: 101, Validation Loss: 1.0102943181991577%\n",
            "pytorch_model set: Epoch [20/10000], Batch: 201, Validation Loss: 0.38485050201416016%\n",
            "pytorch_model set: Epoch [20/10000], Batch: 301, Validation Loss: 0.4881269633769989%\n",
            "pytorch_model set: Epoch [20/10000], Batch: 401, Validation Loss: 0.8734799027442932%\n",
            "pytorch_model set: Epoch [20/10000], Batch: 501, Validation Loss: 0.7035521864891052%\n",
            "pytorch_model set: Epoch [20/10000], Batch: 601, Validation Loss: 0.9836694002151489%\n",
            "pytorch_model set: Epoch [20/10000], Batch: 701, Validation Loss: 1.075687289237976%\n",
            "pytorch_model set: Epoch [20/10000], Batch: 801, Validation Loss: 0.21578159928321838%\n",
            "pytorch_model set: Epoch [20/10000], Batch: 901, Validation Loss: 0.814473032951355%\n",
            "Accuracy of pytorch_model set: 83.48666666666666%\n",
            "Epoch [21/60000], Batch: 1, Train Loss: 0.8858163356781006\n",
            "Epoch [21/60000], Batch: 101, Train Loss: 0.7905484437942505\n",
            "Epoch [21/60000], Batch: 201, Train Loss: 0.7225799560546875\n",
            "Epoch [21/60000], Batch: 301, Train Loss: 0.7416127920150757\n",
            "Epoch [21/60000], Batch: 401, Train Loss: 0.8276851773262024\n",
            "Epoch [21/60000], Batch: 501, Train Loss: 0.8696854114532471\n",
            "Epoch [21/60000], Batch: 601, Train Loss: 0.5726525187492371\n",
            "Epoch [21/60000], Batch: 701, Train Loss: 0.3722539246082306\n",
            "Epoch [21/60000], Batch: 801, Train Loss: 0.2595151960849762\n",
            "Epoch [21/60000], Batch: 901, Train Loss: 0.26526564359664917\n",
            "Accuracy of train set: 0.8284833333333333\n",
            "pytorch_model set: Epoch [21/10000], Batch: 1, Validation Loss: 1.1280090808868408%\n",
            "pytorch_model set: Epoch [21/10000], Batch: 101, Validation Loss: 1.5574860572814941%\n",
            "pytorch_model set: Epoch [21/10000], Batch: 201, Validation Loss: 1.398847222328186%\n",
            "pytorch_model set: Epoch [21/10000], Batch: 301, Validation Loss: 1.708158016204834%\n",
            "pytorch_model set: Epoch [21/10000], Batch: 401, Validation Loss: 0.7922070622444153%\n",
            "pytorch_model set: Epoch [21/10000], Batch: 501, Validation Loss: 0.41139963269233704%\n",
            "pytorch_model set: Epoch [21/10000], Batch: 601, Validation Loss: 0.895054817199707%\n",
            "pytorch_model set: Epoch [21/10000], Batch: 701, Validation Loss: 0.6283617615699768%\n",
            "pytorch_model set: Epoch [21/10000], Batch: 801, Validation Loss: 0.7961122989654541%\n",
            "pytorch_model set: Epoch [21/10000], Batch: 901, Validation Loss: 0.8509281277656555%\n",
            "Accuracy of pytorch_model set: 80.54333333333334%\n",
            "Epoch [22/60000], Batch: 1, Train Loss: 1.0924530029296875\n",
            "Epoch [22/60000], Batch: 101, Train Loss: 0.40549683570861816\n",
            "Epoch [22/60000], Batch: 201, Train Loss: 1.080846905708313\n",
            "Epoch [22/60000], Batch: 301, Train Loss: 0.7838359475135803\n",
            "Epoch [22/60000], Batch: 401, Train Loss: 1.0922077894210815\n",
            "Epoch [22/60000], Batch: 501, Train Loss: 1.317867398262024\n",
            "Epoch [22/60000], Batch: 601, Train Loss: 0.535359263420105\n",
            "Epoch [22/60000], Batch: 701, Train Loss: 0.749534010887146\n",
            "Epoch [22/60000], Batch: 801, Train Loss: 1.0116406679153442\n",
            "Epoch [22/60000], Batch: 901, Train Loss: 0.4587714672088623\n",
            "Accuracy of train set: 0.8297666666666667\n",
            "pytorch_model set: Epoch [22/10000], Batch: 1, Validation Loss: 0.27497342228889465%\n",
            "pytorch_model set: Epoch [22/10000], Batch: 101, Validation Loss: 0.47573888301849365%\n",
            "pytorch_model set: Epoch [22/10000], Batch: 201, Validation Loss: 0.34076493978500366%\n",
            "pytorch_model set: Epoch [22/10000], Batch: 301, Validation Loss: 0.6858292818069458%\n",
            "pytorch_model set: Epoch [22/10000], Batch: 401, Validation Loss: 1.3411015272140503%\n",
            "pytorch_model set: Epoch [22/10000], Batch: 501, Validation Loss: 0.6824362874031067%\n",
            "pytorch_model set: Epoch [22/10000], Batch: 601, Validation Loss: 1.0287721157073975%\n",
            "pytorch_model set: Epoch [22/10000], Batch: 701, Validation Loss: 0.42130884528160095%\n",
            "pytorch_model set: Epoch [22/10000], Batch: 801, Validation Loss: 0.7712868452072144%\n",
            "pytorch_model set: Epoch [22/10000], Batch: 901, Validation Loss: 0.8146398663520813%\n",
            "Accuracy of pytorch_model set: 82.62166666666667%\n",
            "Epoch [23/60000], Batch: 1, Train Loss: 0.9534275531768799\n",
            "Epoch [23/60000], Batch: 101, Train Loss: 1.7240906953811646\n",
            "Epoch [23/60000], Batch: 201, Train Loss: 1.1443054676055908\n",
            "Epoch [23/60000], Batch: 301, Train Loss: 0.542149007320404\n",
            "Epoch [23/60000], Batch: 401, Train Loss: 0.2871827483177185\n",
            "Epoch [23/60000], Batch: 501, Train Loss: 1.2960233688354492\n",
            "Epoch [23/60000], Batch: 601, Train Loss: 0.689710259437561\n",
            "Epoch [23/60000], Batch: 701, Train Loss: 0.5944283604621887\n",
            "Epoch [23/60000], Batch: 801, Train Loss: 0.5301331281661987\n",
            "Epoch [23/60000], Batch: 901, Train Loss: 0.29491686820983887\n",
            "Accuracy of train set: 0.8299333333333333\n",
            "pytorch_model set: Epoch [23/10000], Batch: 1, Validation Loss: 0.7066541314125061%\n",
            "pytorch_model set: Epoch [23/10000], Batch: 101, Validation Loss: 0.5076442360877991%\n",
            "pytorch_model set: Epoch [23/10000], Batch: 201, Validation Loss: 0.8723218441009521%\n",
            "pytorch_model set: Epoch [23/10000], Batch: 301, Validation Loss: 0.5966252684593201%\n",
            "pytorch_model set: Epoch [23/10000], Batch: 401, Validation Loss: 0.6076810359954834%\n",
            "pytorch_model set: Epoch [23/10000], Batch: 501, Validation Loss: 0.882434070110321%\n",
            "pytorch_model set: Epoch [23/10000], Batch: 601, Validation Loss: 1.358677625656128%\n",
            "pytorch_model set: Epoch [23/10000], Batch: 701, Validation Loss: 1.4887253046035767%\n",
            "pytorch_model set: Epoch [23/10000], Batch: 801, Validation Loss: 0.4597490727901459%\n",
            "pytorch_model set: Epoch [23/10000], Batch: 901, Validation Loss: 0.474568635225296%\n",
            "Accuracy of pytorch_model set: 81.00500000000001%\n",
            "Epoch [24/60000], Batch: 1, Train Loss: 1.2235119342803955\n",
            "Epoch [24/60000], Batch: 101, Train Loss: 0.24483491480350494\n",
            "Epoch [24/60000], Batch: 201, Train Loss: 0.5281598567962646\n",
            "Epoch [24/60000], Batch: 301, Train Loss: 0.8162257075309753\n",
            "Epoch [24/60000], Batch: 401, Train Loss: 0.6430126428604126\n",
            "Epoch [24/60000], Batch: 501, Train Loss: 0.24424868822097778\n",
            "Epoch [24/60000], Batch: 601, Train Loss: 1.276450514793396\n",
            "Epoch [24/60000], Batch: 701, Train Loss: 1.0038946866989136\n",
            "Epoch [24/60000], Batch: 801, Train Loss: 1.1262317895889282\n",
            "Epoch [24/60000], Batch: 901, Train Loss: 0.5291118025779724\n",
            "Accuracy of train set: 0.832\n",
            "pytorch_model set: Epoch [24/10000], Batch: 1, Validation Loss: 0.6248137950897217%\n",
            "pytorch_model set: Epoch [24/10000], Batch: 101, Validation Loss: 0.3139323592185974%\n",
            "pytorch_model set: Epoch [24/10000], Batch: 201, Validation Loss: 0.3596060574054718%\n",
            "pytorch_model set: Epoch [24/10000], Batch: 301, Validation Loss: 0.5870029330253601%\n",
            "pytorch_model set: Epoch [24/10000], Batch: 401, Validation Loss: 0.3418383300304413%\n",
            "pytorch_model set: Epoch [24/10000], Batch: 501, Validation Loss: 0.8213492631912231%\n",
            "pytorch_model set: Epoch [24/10000], Batch: 601, Validation Loss: 0.7449504733085632%\n",
            "pytorch_model set: Epoch [24/10000], Batch: 701, Validation Loss: 0.6577047109603882%\n",
            "pytorch_model set: Epoch [24/10000], Batch: 801, Validation Loss: 0.7451236248016357%\n",
            "pytorch_model set: Epoch [24/10000], Batch: 901, Validation Loss: 1.1045969724655151%\n",
            "Accuracy of pytorch_model set: 83.38833333333334%\n",
            "Epoch [25/60000], Batch: 1, Train Loss: 1.1970257759094238\n",
            "Epoch [25/60000], Batch: 101, Train Loss: 1.0793216228485107\n",
            "Epoch [25/60000], Batch: 201, Train Loss: 1.2738510370254517\n",
            "Epoch [25/60000], Batch: 301, Train Loss: 0.22862589359283447\n",
            "Epoch [25/60000], Batch: 401, Train Loss: 0.5503039956092834\n",
            "Epoch [25/60000], Batch: 501, Train Loss: 0.43082019686698914\n",
            "Epoch [25/60000], Batch: 601, Train Loss: 0.2717517912387848\n",
            "Epoch [25/60000], Batch: 701, Train Loss: 0.4084056615829468\n",
            "Epoch [25/60000], Batch: 801, Train Loss: 0.6559059619903564\n",
            "Epoch [25/60000], Batch: 901, Train Loss: 0.4403415620326996\n",
            "Accuracy of train set: 0.8339166666666666\n",
            "pytorch_model set: Epoch [25/10000], Batch: 1, Validation Loss: 0.5305988788604736%\n",
            "pytorch_model set: Epoch [25/10000], Batch: 101, Validation Loss: 0.38393038511276245%\n",
            "pytorch_model set: Epoch [25/10000], Batch: 201, Validation Loss: 0.42507877945899963%\n",
            "pytorch_model set: Epoch [25/10000], Batch: 301, Validation Loss: 0.408843994140625%\n",
            "pytorch_model set: Epoch [25/10000], Batch: 401, Validation Loss: 0.46435272693634033%\n",
            "pytorch_model set: Epoch [25/10000], Batch: 501, Validation Loss: 0.444905549287796%\n",
            "pytorch_model set: Epoch [25/10000], Batch: 601, Validation Loss: 0.2845793068408966%\n",
            "pytorch_model set: Epoch [25/10000], Batch: 701, Validation Loss: 0.4271767735481262%\n",
            "pytorch_model set: Epoch [25/10000], Batch: 801, Validation Loss: 0.5916552543640137%\n",
            "pytorch_model set: Epoch [25/10000], Batch: 901, Validation Loss: 0.4983665645122528%\n",
            "Accuracy of pytorch_model set: 84.32%\n"
          ]
        },
        {
          "output_type": "display_data",
          "data": {
            "text/plain": [
              "<Figure size 640x480 with 1 Axes>"
            ],
            "image/png": "[encoded data removed]"
          },
          "metadata": {}
        },
        {
          "output_type": "display_data",
          "data": {
            "text/plain": [
              "<Figure size 640x480 with 1 Axes>"
            ],
            "image/png": "[encoded data removed]"
          },
          "metadata": {}
        }
      ],
      "source": [
        "train_model([train_loader, test_loader], num_epochs=25, learning_rate=0.005)"
      ]
    },
    {
      "cell_type": "code",
      "execution_count": 23,
      "id": "ceb5783f",
      "metadata": {
        "colab": {
          "base_uri": "https://localhost:8080/"
        },
        "id": "ceb5783f",
        "outputId": "a6d3cbba-a41f-44b4-aea9-d260d96a5264"
      },
      "outputs": [
        {
          "output_type": "stream",
          "name": "stdout",
          "text": [
            "Final test accuracy: 0.8432\n"
          ]
        }
      ],
      "source": [
        "print(f'Final test accuracy: {test_accuracies[-1]}')"
      ]
    },
    {
      "cell_type": "markdown",
      "id": "a5e128ed",
      "metadata": {
        "id": "a5e128ed"
      },
      "source": [
        "## Visualization of the labels and predictions\n",
        "\n",
        "In this section, you should visual one image from each class and show both the actual label and the predicted label for that image."
      ]
    },
    {
      "cell_type": "code",
      "execution_count": 22,
      "id": "6c0b79fd",
      "metadata": {
        "colab": {
          "base_uri": "https://localhost:8080/",
          "height": 428
        },
        "id": "6c0b79fd",
        "outputId": "a2f0671b-7e52-4bd6-b94b-24b6c9ecc3f8"
      },
      "outputs": [
        {
          "output_type": "display_data",
          "data": {
            "text/plain": [
              "<Figure size 640x480 with 10 Axes>"
            ],
            "image/png": "[encoded data removed]"
          },
          "metadata": {}
        }
      ],
      "source": [
        "## FILL HERE\n",
        "trainBatch = iter(train_loader)\n",
        "trainIMG, label = trainBatch.__next__()\n",
        "allClasses = set(label.tolist())\n",
        "listedLabel = label.tolist()\n",
        "\n",
        "for i in range(num_classes):\n",
        "    plt.subplot(10, 10, (i)*10+i+1)\n",
        "\n",
        "    indices = [j for j, val in enumerate(listedLabel) if val == i]\n",
        "    randomIndex = np.random.randint(len(indices))\n",
        "    plt.imshow(trainIMG[indices[randomIndex]][0], cmap ='gray')\n",
        "    plt.axis('off')\n",
        "    p = model(trainIMG[indices[randomIndex]], parameters)\n",
        "    y_pred = p.argmax(dim=-1).numpy()\n",
        "    plt.title(f\"y{y_pred}, c{i}\")\n"
      ]
    }
  ],
  "metadata": {
    "kernelspec": {
      "display_name": "Python 3",
      "language": "python",
      "name": "python3"
    },
    "language_info": {
      "codemirror_mode": {
        "name": "ipython",
        "version": 3
      },
      "file_extension": ".py",
      "mimetype": "text/x-python",
      "name": "python",
      "nbconvert_exporter": "python",
      "pygments_lexer": "ipython3",
      "version": "3.8.3"
    },
    "colab": {
      "provenance": []
    }
  },
  "nbformat": 4,
  "nbformat_minor": 5
}